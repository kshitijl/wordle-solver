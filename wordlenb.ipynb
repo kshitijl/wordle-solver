{
 "cells": [
  {
   "cell_type": "code",
   "execution_count": 1,
   "id": "c5d581ac-029a-4722-8401-a1c9b2705488",
   "metadata": {},
   "outputs": [],
   "source": [
    "%load_ext autoreload\n",
    "%autoreload 1\n",
    "%aimport wordle\n",
    "import wordle"
   ]
  },
  {
   "cell_type": "code",
   "execution_count": 11,
   "id": "13750e6d-acb5-4aeb-81d6-d775b9f9c79f",
   "metadata": {},
   "outputs": [],
   "source": [
    "dictionary = [x.strip() for x in open(\"dictionary.txt\").readlines()]\n",
    "dictionary = [x.lower() for x in dictionary if len(x) == 5]"
   ]
  },
  {
   "cell_type": "code",
   "execution_count": 19,
   "id": "52a031a4-73d0-428e-bd5e-d1a1bed3369a",
   "metadata": {},
   "outputs": [],
   "source": [
    "game = wordle.GameState(set(dictionary))"
   ]
  },
  {
   "cell_type": "code",
   "execution_count": 20,
   "id": "bea73b30-90a9-42d5-b4ec-d186bce77812",
   "metadata": {},
   "outputs": [
    {
     "name": "stdout",
     "output_type": "stream",
     "text": [
      "Before: 8938 possibilities\n",
      "After: 167 possibilities\n"
     ]
    }
   ],
   "source": [
    "game.eliminate(\"stare\", \"nnwww\")"
   ]
  },
  {
   "cell_type": "code",
   "execution_count": 21,
   "id": "17beb5db-5d85-4768-8825-6c7fae854618",
   "metadata": {},
   "outputs": [
    {
     "name": "stdout",
     "output_type": "stream",
     "text": [
      "[('acred', 2.6457605325249993), ('cared', 2.6457018259423917), ('caped', 2.6295911751764165), ('laced', 2.622197844136329), ('caged', 2.597963200601431), ('raced', 2.5973526314073525), ('paced', 2.592502832896297), ('paled', 2.5903440102788124), ('damar', 2.586241067857352), ('alder', 2.5798290281108573)]\n"
     ]
    },
    {
     "data": {
      "text/plain": [
       "'acred'"
      ]
     },
     "execution_count": 21,
     "metadata": {},
     "output_type": "execute_result"
    }
   ],
   "source": [
    "game.best_move()"
   ]
  },
  {
   "cell_type": "code",
   "execution_count": 22,
   "id": "354f528c-78bd-4f84-864b-96736c1f4eec",
   "metadata": {},
   "outputs": [
    {
     "name": "stdout",
     "output_type": "stream",
     "text": [
      "Before: 167 possibilities\n",
      "After: 4 possibilities\n",
      "{'adder', 'aider', 'ardeb', 'alder'}\n"
     ]
    }
   ],
   "source": [
    "game.eliminate(\"caped\", \"nwnrw\")"
   ]
  },
  {
   "cell_type": "code",
   "execution_count": 23,
   "id": "bd3abf03-a4c7-42ba-ab93-6212654b3cc3",
   "metadata": {},
   "outputs": [
    {
     "name": "stdout",
     "output_type": "stream",
     "text": [
      "[('kibla', 1.3862943611198906), ('frail', 1.3862943611198906), ('pibal', 1.3862943611198906), ('brail', 1.3862943611198906), ('ariel', 1.3862943611198906), ('idols', 1.3862943611198906), ('limba', 1.3862943611198906), ('biles', 1.3862943611198906), ('idler', 1.3862943611198906), ('prill', 1.3862943611198906)]\n"
     ]
    },
    {
     "data": {
      "text/plain": [
       "'kibla'"
      ]
     },
     "execution_count": 23,
     "metadata": {},
     "output_type": "execute_result"
    }
   ],
   "source": [
    "game.best_move()"
   ]
  },
  {
   "cell_type": "code",
   "execution_count": 24,
   "id": "6ab3574c-36b2-45db-843f-2dacbd636074",
   "metadata": {},
   "outputs": [
    {
     "name": "stdout",
     "output_type": "stream",
     "text": [
      "Before: 4 possibilities\n",
      "After: 0 possibilities\n",
      "set()\n"
     ]
    }
   ],
   "source": [
    "game.eliminate(\"adder\", \"rnrrr\")"
   ]
  },
  {
   "cell_type": "code",
   "execution_count": 26,
   "id": "05fee357-5fb2-480a-969c-113ffe8e1b17",
   "metadata": {},
   "outputs": [],
   "source": [
    "p = set([wordle.Answer(x) for x in [\"adder\", \"aider\", \"ardeb\", \"alder\"]])"
   ]
  },
  {
   "cell_type": "code",
   "execution_count": 27,
   "id": "3ed9be34-151b-4c84-9dfe-d5efefa46186",
   "metadata": {},
   "outputs": [
    {
     "data": {
      "text/plain": [
       "{'adder', 'aider', 'alder', 'ardeb'}"
      ]
     },
     "execution_count": 27,
     "metadata": {},
     "output_type": "execute_result"
    }
   ],
   "source": [
    "p"
   ]
  },
  {
   "cell_type": "code",
   "execution_count": 28,
   "id": "47d5f150-81cf-4a19-9a4d-a26bf6adbff4",
   "metadata": {},
   "outputs": [],
   "source": [
    "move = wordle.Move(\"adder\")\n",
    "response = wordle.create_response(\"rnrrr\")"
   ]
  },
  {
   "cell_type": "code",
   "execution_count": 29,
   "id": "e580693c-b342-4c18-9c45-005a07dabfac",
   "metadata": {},
   "outputs": [],
   "source": [
    "from wordle import *"
   ]
  },
  {
   "cell_type": "code",
   "execution_count": 30,
   "id": "aa44f2f5-8f00-4c2b-9de6-41b2e9ea5116",
   "metadata": {},
   "outputs": [
    {
     "data": {
      "text/plain": [
       "Response(type_=<ResponseType.IsAWord: 2>, elems=(<ResponseElem.RightPlace: 3>, <ResponseElem.WrongPlace: 2>, <ResponseElem.RightPlace: 3>, <ResponseElem.RightPlace: 3>, <ResponseElem.RightPlace: 3>))"
      ]
     },
     "execution_count": 30,
     "metadata": {},
     "output_type": "execute_result"
    }
   ],
   "source": [
    "predict(move, Answer(\"aider\"))"
   ]
  },
  {
   "cell_type": "code",
   "execution_count": null,
   "id": "8139be11-fcc7-4938-9847-d727e141b9e3",
   "metadata": {},
   "outputs": [],
   "source": []
  }
 ],
 "metadata": {
  "kernelspec": {
   "display_name": "Python 3 (ipykernel)",
   "language": "python",
   "name": "python3"
  },
  "language_info": {
   "codemirror_mode": {
    "name": "ipython",
    "version": 3
   },
   "file_extension": ".py",
   "mimetype": "text/x-python",
   "name": "python",
   "nbconvert_exporter": "python",
   "pygments_lexer": "ipython3",
   "version": "3.9.12"
  }
 },
 "nbformat": 4,
 "nbformat_minor": 5
}
