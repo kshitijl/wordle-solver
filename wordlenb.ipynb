{
 "cells": [
  {
   "cell_type": "code",
   "execution_count": 1,
   "id": "c5d581ac-029a-4722-8401-a1c9b2705488",
   "metadata": {},
   "outputs": [],
   "source": [
    "%load_ext autoreload\n",
    "%autoreload 1\n",
    "%aimport wordle\n",
    "import wordle"
   ]
  },
  {
   "cell_type": "code",
   "execution_count": 2,
   "id": "13750e6d-acb5-4aeb-81d6-d775b9f9c79f",
   "metadata": {},
   "outputs": [],
   "source": [
    "dictionary = [x.strip() for x in open(\"dictionary.txt\").readlines()]\n",
    "dictionary = [x.lower() for x in dictionary if len(x) == 5]"
   ]
  },
  {
   "cell_type": "code",
   "execution_count": 3,
   "id": "52a031a4-73d0-428e-bd5e-d1a1bed3369a",
   "metadata": {},
   "outputs": [],
   "source": [
    "game = wordle.GameState(set(dictionary))"
   ]
  },
  {
   "cell_type": "code",
   "execution_count": 4,
   "id": "89e7bf0f-4e9f-4f3b-b9ee-7ce2f084bd51",
   "metadata": {},
   "outputs": [
    {
     "name": "stdout",
     "output_type": "stream",
     "text": [
      "There are 8938 moves and 8938 answers to evaluate. Will print progress every 89 moves\n",
      "Evaluated 89 out of 8938 moves\n",
      "Evaluated 178 out of 8938 moves\n",
      "Evaluated 267 out of 8938 moves\n",
      "Evaluated 356 out of 8938 moves\n",
      "Evaluated 445 out of 8938 moves\n",
      "Evaluated 534 out of 8938 moves\n",
      "Evaluated 623 out of 8938 moves\n",
      "Evaluated 712 out of 8938 moves\n",
      "Evaluated 801 out of 8938 moves\n",
      "Evaluated 890 out of 8938 moves\n",
      "Evaluated 979 out of 8938 moves\n",
      "Evaluated 1068 out of 8938 moves\n",
      "Evaluated 1157 out of 8938 moves\n",
      "Evaluated 1246 out of 8938 moves\n",
      "Evaluated 1335 out of 8938 moves\n",
      "Evaluated 1424 out of 8938 moves\n",
      "Evaluated 1513 out of 8938 moves\n",
      "Evaluated 1602 out of 8938 moves\n",
      "Evaluated 1691 out of 8938 moves\n",
      "Evaluated 1780 out of 8938 moves\n",
      "Evaluated 1869 out of 8938 moves\n",
      "Evaluated 1958 out of 8938 moves\n",
      "Evaluated 2047 out of 8938 moves\n",
      "Evaluated 2136 out of 8938 moves\n",
      "Evaluated 2225 out of 8938 moves\n",
      "Evaluated 2314 out of 8938 moves\n",
      "Evaluated 2403 out of 8938 moves\n",
      "Evaluated 2492 out of 8938 moves\n",
      "Evaluated 2581 out of 8938 moves\n",
      "Evaluated 2670 out of 8938 moves\n",
      "Evaluated 2759 out of 8938 moves\n",
      "Evaluated 2848 out of 8938 moves\n",
      "Evaluated 2937 out of 8938 moves\n",
      "Evaluated 3026 out of 8938 moves\n",
      "Evaluated 3115 out of 8938 moves\n",
      "Evaluated 3204 out of 8938 moves\n",
      "Evaluated 3293 out of 8938 moves\n",
      "Evaluated 3382 out of 8938 moves\n",
      "Evaluated 3471 out of 8938 moves\n",
      "Evaluated 3560 out of 8938 moves\n",
      "Evaluated 3649 out of 8938 moves\n",
      "Evaluated 3738 out of 8938 moves\n",
      "Evaluated 3827 out of 8938 moves\n",
      "Evaluated 3916 out of 8938 moves\n",
      "Evaluated 4005 out of 8938 moves\n",
      "Evaluated 4094 out of 8938 moves\n",
      "Evaluated 4183 out of 8938 moves\n",
      "Evaluated 4272 out of 8938 moves\n",
      "Evaluated 4361 out of 8938 moves\n",
      "Evaluated 4450 out of 8938 moves\n",
      "Evaluated 4539 out of 8938 moves\n",
      "Evaluated 4628 out of 8938 moves\n",
      "Evaluated 4717 out of 8938 moves\n",
      "Evaluated 4806 out of 8938 moves\n",
      "Evaluated 4895 out of 8938 moves\n",
      "Evaluated 4984 out of 8938 moves\n",
      "Evaluated 5073 out of 8938 moves\n",
      "Evaluated 5162 out of 8938 moves\n",
      "Evaluated 5251 out of 8938 moves\n",
      "Evaluated 5340 out of 8938 moves\n",
      "Evaluated 5429 out of 8938 moves\n",
      "Evaluated 5518 out of 8938 moves\n",
      "Evaluated 5607 out of 8938 moves\n",
      "Evaluated 5696 out of 8938 moves\n",
      "Evaluated 5785 out of 8938 moves\n",
      "Evaluated 5874 out of 8938 moves\n",
      "Evaluated 5963 out of 8938 moves\n",
      "Evaluated 6052 out of 8938 moves\n",
      "Evaluated 6141 out of 8938 moves\n",
      "Evaluated 6230 out of 8938 moves\n",
      "Evaluated 6319 out of 8938 moves\n",
      "Evaluated 6408 out of 8938 moves\n",
      "Evaluated 6497 out of 8938 moves\n",
      "Evaluated 6586 out of 8938 moves\n",
      "Evaluated 6675 out of 8938 moves\n",
      "Evaluated 6764 out of 8938 moves\n",
      "Evaluated 6853 out of 8938 moves\n",
      "Evaluated 6942 out of 8938 moves\n",
      "Evaluated 7031 out of 8938 moves\n",
      "Evaluated 7120 out of 8938 moves\n",
      "Evaluated 7209 out of 8938 moves\n",
      "Evaluated 7298 out of 8938 moves\n",
      "Evaluated 7387 out of 8938 moves\n",
      "Evaluated 7476 out of 8938 moves\n",
      "Evaluated 7565 out of 8938 moves\n",
      "Evaluated 7654 out of 8938 moves\n",
      "Evaluated 7743 out of 8938 moves\n",
      "Evaluated 7832 out of 8938 moves\n",
      "Evaluated 7921 out of 8938 moves\n",
      "Evaluated 8010 out of 8938 moves\n",
      "Evaluated 8099 out of 8938 moves\n",
      "Evaluated 8188 out of 8938 moves\n",
      "Evaluated 8277 out of 8938 moves\n",
      "Evaluated 8366 out of 8938 moves\n",
      "Evaluated 8455 out of 8938 moves\n",
      "Evaluated 8544 out of 8938 moves\n",
      "Evaluated 8633 out of 8938 moves\n",
      "Evaluated 8722 out of 8938 moves\n",
      "Evaluated 8811 out of 8938 moves\n",
      "Evaluated 8900 out of 8938 moves\n",
      "[('tares', 4.307053942015309), ('lares', 4.280209506749282), ('rales', 4.256099843548939), ('rates', 4.240257813396901), ('tales', 4.218714385261274), ('arles', 4.209525441827602), ('nares', 4.204862828460929), ('tears', 4.187777536779905), ('tores', 4.176616136665369), ('reals', 4.1728557691057295)]\n"
     ]
    },
    {
     "data": {
      "text/plain": [
       "'tares'"
      ]
     },
     "execution_count": 4,
     "metadata": {},
     "output_type": "execute_result"
    }
   ],
   "source": [
    "game.best_move()"
   ]
  },
  {
   "cell_type": "code",
   "execution_count": 5,
   "id": "396b4ce5-4291-4942-9ef9-244c90ad709e",
   "metadata": {},
   "outputs": [
    {
     "name": "stdout",
     "output_type": "stream",
     "text": [
      "Before: 8938 possibilities\n",
      "After: 9 possibilities\n",
      "{'prest', 'stere', 'resit', 'drest', 'wrest', 'stern', 'crest', 'store', 'reest'}\n"
     ]
    },
    {
     "name": "stderr",
     "output_type": "stream",
     "text": [
      "[autoreload of wordle failed: Traceback (most recent call last):\n",
      "  File \"/opt/homebrew/lib/python3.9/site-packages/IPython/extensions/autoreload.py\", line 257, in check\n",
      "    superreload(m, reload, self.old_objects)\n",
      "  File \"/opt/homebrew/lib/python3.9/site-packages/IPython/extensions/autoreload.py\", line 480, in superreload\n",
      "    update_generic(old_obj, new_obj)\n",
      "  File \"/opt/homebrew/lib/python3.9/site-packages/IPython/extensions/autoreload.py\", line 377, in update_generic\n",
      "    update(a, b)\n",
      "  File \"/opt/homebrew/lib/python3.9/site-packages/IPython/extensions/autoreload.py\", line 345, in update_class\n",
      "    update_instances(old, new)\n",
      "  File \"/opt/homebrew/lib/python3.9/site-packages/IPython/extensions/autoreload.py\", line 303, in update_instances\n",
      "    ref.__class__ = new\n",
      "  File \"<string>\", line 4, in __setattr__\n",
      "dataclasses.FrozenInstanceError: cannot assign to field '__class__'\n",
      "]\n"
     ]
    }
   ],
   "source": [
    "game.eliminate('tares', 'wnwww')"
   ]
  },
  {
   "cell_type": "code",
   "execution_count": 6,
   "id": "1b71d54b-46b6-4d47-9183-d54cc99d9f81",
   "metadata": {},
   "outputs": [
    {
     "name": "stdout",
     "output_type": "stream",
     "text": [
      "There are 8938 moves and 9 answers to evaluate. Will print progress every 89 moves\n",
      "Evaluated 89 out of 8938 moves\n",
      "Evaluated 178 out of 8938 moves\n",
      "Evaluated 267 out of 8938 moves\n",
      "Evaluated 356 out of 8938 moves\n",
      "Evaluated 445 out of 8938 moves\n",
      "Evaluated 534 out of 8938 moves\n",
      "Evaluated 623 out of 8938 moves\n",
      "Evaluated 712 out of 8938 moves\n",
      "Evaluated 801 out of 8938 moves\n",
      "Evaluated 890 out of 8938 moves\n",
      "Evaluated 979 out of 8938 moves\n",
      "Evaluated 1068 out of 8938 moves\n",
      "Evaluated 1157 out of 8938 moves\n",
      "Evaluated 1246 out of 8938 moves\n",
      "Evaluated 1335 out of 8938 moves\n",
      "Evaluated 1424 out of 8938 moves\n",
      "Evaluated 1513 out of 8938 moves\n",
      "Evaluated 1602 out of 8938 moves\n",
      "Evaluated 1691 out of 8938 moves\n",
      "Evaluated 1780 out of 8938 moves\n",
      "Evaluated 1869 out of 8938 moves\n",
      "Evaluated 1958 out of 8938 moves\n",
      "Evaluated 2047 out of 8938 moves\n",
      "Evaluated 2136 out of 8938 moves\n",
      "Evaluated 2225 out of 8938 moves\n",
      "Evaluated 2314 out of 8938 moves\n",
      "Evaluated 2403 out of 8938 moves\n",
      "Evaluated 2492 out of 8938 moves\n",
      "Evaluated 2581 out of 8938 moves\n",
      "Evaluated 2670 out of 8938 moves\n",
      "Evaluated 2759 out of 8938 moves\n",
      "Evaluated 2848 out of 8938 moves\n",
      "Evaluated 2937 out of 8938 moves\n",
      "Evaluated 3026 out of 8938 moves\n",
      "Evaluated 3115 out of 8938 moves\n",
      "Evaluated 3204 out of 8938 moves\n",
      "Evaluated 3293 out of 8938 moves\n",
      "Evaluated 3382 out of 8938 moves\n",
      "Evaluated 3471 out of 8938 moves\n",
      "Evaluated 3560 out of 8938 moves\n",
      "Evaluated 3649 out of 8938 moves\n",
      "Evaluated 3738 out of 8938 moves\n",
      "Evaluated 3827 out of 8938 moves\n",
      "Evaluated 3916 out of 8938 moves\n",
      "Evaluated 4005 out of 8938 moves\n",
      "Evaluated 4094 out of 8938 moves\n",
      "Evaluated 4183 out of 8938 moves\n",
      "Evaluated 4272 out of 8938 moves\n",
      "Evaluated 4361 out of 8938 moves\n",
      "Evaluated 4450 out of 8938 moves\n",
      "Evaluated 4539 out of 8938 moves\n",
      "Evaluated 4628 out of 8938 moves\n",
      "Evaluated 4717 out of 8938 moves\n",
      "Evaluated 4806 out of 8938 moves\n",
      "Evaluated 4895 out of 8938 moves\n",
      "Evaluated 4984 out of 8938 moves\n",
      "Evaluated 5073 out of 8938 moves\n",
      "Evaluated 5162 out of 8938 moves\n",
      "Evaluated 5251 out of 8938 moves\n",
      "Evaluated 5340 out of 8938 moves\n",
      "Evaluated 5429 out of 8938 moves\n",
      "Evaluated 5518 out of 8938 moves\n",
      "Evaluated 5607 out of 8938 moves\n",
      "Evaluated 5696 out of 8938 moves\n",
      "Evaluated 5785 out of 8938 moves\n",
      "Evaluated 5874 out of 8938 moves\n",
      "Evaluated 5963 out of 8938 moves\n",
      "Evaluated 6052 out of 8938 moves\n",
      "Evaluated 6141 out of 8938 moves\n",
      "Evaluated 6230 out of 8938 moves\n",
      "Evaluated 6319 out of 8938 moves\n",
      "Evaluated 6408 out of 8938 moves\n",
      "Evaluated 6497 out of 8938 moves\n",
      "Evaluated 6586 out of 8938 moves\n",
      "Evaluated 6675 out of 8938 moves\n",
      "Evaluated 6764 out of 8938 moves\n",
      "Evaluated 6853 out of 8938 moves\n",
      "Evaluated 6942 out of 8938 moves\n",
      "Evaluated 7031 out of 8938 moves\n",
      "Evaluated 7120 out of 8938 moves\n",
      "Evaluated 7209 out of 8938 moves\n",
      "Evaluated 7298 out of 8938 moves\n",
      "Evaluated 7387 out of 8938 moves\n",
      "Evaluated 7476 out of 8938 moves\n",
      "Evaluated 7565 out of 8938 moves\n",
      "Evaluated 7654 out of 8938 moves\n",
      "Evaluated 7743 out of 8938 moves\n",
      "Evaluated 7832 out of 8938 moves\n",
      "Evaluated 7921 out of 8938 moves\n",
      "Evaluated 8010 out of 8938 moves\n",
      "Evaluated 8099 out of 8938 moves\n",
      "Evaluated 8188 out of 8938 moves\n",
      "Evaluated 8277 out of 8938 moves\n",
      "Evaluated 8366 out of 8938 moves\n",
      "Evaluated 8455 out of 8938 moves\n",
      "Evaluated 8544 out of 8938 moves\n",
      "Evaluated 8633 out of 8938 moves\n",
      "Evaluated 8722 out of 8938 moves\n",
      "Evaluated 8811 out of 8938 moves\n",
      "Evaluated 8900 out of 8938 moves\n",
      "[('crept', 1.8891591637540217), ('crepe', 1.8891591637540215), ('scend', 1.8310204811135165), ('swede', 1.8310204811135165), ('spend', 1.8310204811135162), ('prese', 1.8310204811135162), ('price', 1.7351264569629226), ('pride', 1.7351264569629226), ('pence', 1.7351264569629226), ('pedro', 1.7351264569629226)]\n"
     ]
    },
    {
     "data": {
      "text/plain": [
       "'crept'"
      ]
     },
     "execution_count": 6,
     "metadata": {},
     "output_type": "execute_result"
    }
   ],
   "source": [
    "game.best_move()"
   ]
  },
  {
   "cell_type": "code",
   "execution_count": 7,
   "id": "66a4d522-d23d-41c1-9fc2-c06e8799537d",
   "metadata": {},
   "outputs": [
    {
     "name": "stdout",
     "output_type": "stream",
     "text": [
      "Before: 9 possibilities\n",
      "After: 1 possibilities\n",
      "{'crest'}\n"
     ]
    }
   ],
   "source": [
    "game.eliminate('crept', 'rrrnr')"
   ]
  },
  {
   "cell_type": "code",
   "execution_count": 8,
   "id": "087ad759-8c6b-40fe-99ab-5419b0c23722",
   "metadata": {},
   "outputs": [
    {
     "name": "stdout",
     "output_type": "stream",
     "text": [
      "There are 8938 moves and 1 answers to evaluate. Will print progress every 89 moves\n",
      "Evaluated 89 out of 8938 moves\n",
      "Evaluated 178 out of 8938 moves\n",
      "Evaluated 267 out of 8938 moves\n",
      "Evaluated 356 out of 8938 moves\n",
      "Evaluated 445 out of 8938 moves\n",
      "Evaluated 534 out of 8938 moves\n",
      "Evaluated 623 out of 8938 moves\n",
      "Evaluated 712 out of 8938 moves\n",
      "Evaluated 801 out of 8938 moves\n",
      "Evaluated 890 out of 8938 moves\n",
      "Evaluated 979 out of 8938 moves\n",
      "Evaluated 1068 out of 8938 moves\n",
      "Evaluated 1157 out of 8938 moves\n",
      "Evaluated 1246 out of 8938 moves\n",
      "Evaluated 1335 out of 8938 moves\n",
      "Evaluated 1424 out of 8938 moves\n",
      "Evaluated 1513 out of 8938 moves\n",
      "Evaluated 1602 out of 8938 moves\n",
      "Evaluated 1691 out of 8938 moves\n",
      "Evaluated 1780 out of 8938 moves\n",
      "Evaluated 1869 out of 8938 moves\n",
      "Evaluated 1958 out of 8938 moves\n",
      "Evaluated 2047 out of 8938 moves\n",
      "Evaluated 2136 out of 8938 moves\n",
      "Evaluated 2225 out of 8938 moves\n",
      "Evaluated 2314 out of 8938 moves\n",
      "Evaluated 2403 out of 8938 moves\n",
      "Evaluated 2492 out of 8938 moves\n",
      "Evaluated 2581 out of 8938 moves\n",
      "Evaluated 2670 out of 8938 moves\n",
      "Evaluated 2759 out of 8938 moves\n",
      "Evaluated 2848 out of 8938 moves\n",
      "Evaluated 2937 out of 8938 moves\n",
      "Evaluated 3026 out of 8938 moves\n",
      "Evaluated 3115 out of 8938 moves\n",
      "Evaluated 3204 out of 8938 moves\n",
      "Evaluated 3293 out of 8938 moves\n",
      "Evaluated 3382 out of 8938 moves\n",
      "Evaluated 3471 out of 8938 moves\n",
      "Evaluated 3560 out of 8938 moves\n",
      "Evaluated 3649 out of 8938 moves\n",
      "Evaluated 3738 out of 8938 moves\n",
      "Evaluated 3827 out of 8938 moves\n",
      "Evaluated 3916 out of 8938 moves\n",
      "Evaluated 4005 out of 8938 moves\n",
      "Evaluated 4094 out of 8938 moves\n",
      "Evaluated 4183 out of 8938 moves\n",
      "Evaluated 4272 out of 8938 moves\n",
      "Evaluated 4361 out of 8938 moves\n",
      "Evaluated 4450 out of 8938 moves\n",
      "Evaluated 4539 out of 8938 moves\n",
      "Evaluated 4628 out of 8938 moves\n",
      "Evaluated 4717 out of 8938 moves\n",
      "Evaluated 4806 out of 8938 moves\n",
      "Evaluated 4895 out of 8938 moves\n",
      "Evaluated 4984 out of 8938 moves\n",
      "Evaluated 5073 out of 8938 moves\n",
      "Evaluated 5162 out of 8938 moves\n",
      "Evaluated 5251 out of 8938 moves\n",
      "Evaluated 5340 out of 8938 moves\n",
      "Evaluated 5429 out of 8938 moves\n",
      "Evaluated 5518 out of 8938 moves\n",
      "Evaluated 5607 out of 8938 moves\n",
      "Evaluated 5696 out of 8938 moves\n",
      "Evaluated 5785 out of 8938 moves\n",
      "Evaluated 5874 out of 8938 moves\n",
      "Evaluated 5963 out of 8938 moves\n",
      "Evaluated 6052 out of 8938 moves\n",
      "Evaluated 6141 out of 8938 moves\n",
      "Evaluated 6230 out of 8938 moves\n",
      "Evaluated 6319 out of 8938 moves\n",
      "Evaluated 6408 out of 8938 moves\n",
      "Evaluated 6497 out of 8938 moves\n",
      "Evaluated 6586 out of 8938 moves\n",
      "Evaluated 6675 out of 8938 moves\n",
      "Evaluated 6764 out of 8938 moves\n",
      "Evaluated 6853 out of 8938 moves\n",
      "Evaluated 6942 out of 8938 moves\n",
      "Evaluated 7031 out of 8938 moves\n",
      "Evaluated 7120 out of 8938 moves\n",
      "Evaluated 7209 out of 8938 moves\n",
      "Evaluated 7298 out of 8938 moves\n",
      "Evaluated 7387 out of 8938 moves\n",
      "Evaluated 7476 out of 8938 moves\n",
      "Evaluated 7565 out of 8938 moves\n",
      "Evaluated 7654 out of 8938 moves\n",
      "Evaluated 7743 out of 8938 moves\n",
      "Evaluated 7832 out of 8938 moves\n",
      "Evaluated 7921 out of 8938 moves\n",
      "Evaluated 8010 out of 8938 moves\n",
      "Evaluated 8099 out of 8938 moves\n",
      "Evaluated 8188 out of 8938 moves\n",
      "Evaluated 8277 out of 8938 moves\n",
      "Evaluated 8366 out of 8938 moves\n",
      "Evaluated 8455 out of 8938 moves\n",
      "Evaluated 8544 out of 8938 moves\n",
      "Evaluated 8633 out of 8938 moves\n",
      "Evaluated 8722 out of 8938 moves\n",
      "Evaluated 8811 out of 8938 moves\n",
      "Evaluated 8900 out of 8938 moves\n",
      "[('rewin', -0.0), ('plans', -0.0), ('manta', -0.0), ('darky', -0.0), ('plush', -0.0), ('nerts', -0.0), ('ketol', -0.0), ('mumms', -0.0), ('money', -0.0), ('oxeye', -0.0)]\n"
     ]
    },
    {
     "data": {
      "text/plain": [
       "'rewin'"
      ]
     },
     "execution_count": 8,
     "metadata": {},
     "output_type": "execute_result"
    }
   ],
   "source": [
    "game.best_move()"
   ]
  },
  {
   "cell_type": "code",
   "execution_count": null,
   "id": "bea73b30-90a9-42d5-b4ec-d186bce77812",
   "metadata": {},
   "outputs": [],
   "source": [
    "game.eliminate(\"stare\", \"nnwww\")"
   ]
  },
  {
   "cell_type": "code",
   "execution_count": null,
   "id": "17beb5db-5d85-4768-8825-6c7fae854618",
   "metadata": {},
   "outputs": [],
   "source": [
    "game.best_move()"
   ]
  },
  {
   "cell_type": "code",
   "execution_count": null,
   "id": "354f528c-78bd-4f84-864b-96736c1f4eec",
   "metadata": {},
   "outputs": [],
   "source": [
    "game.eliminate(\"caped\", \"nwnrw\")"
   ]
  },
  {
   "cell_type": "code",
   "execution_count": null,
   "id": "bd3abf03-a4c7-42ba-ab93-6212654b3cc3",
   "metadata": {},
   "outputs": [],
   "source": [
    "game.best_move()"
   ]
  },
  {
   "cell_type": "code",
   "execution_count": null,
   "id": "6ab3574c-36b2-45db-843f-2dacbd636074",
   "metadata": {},
   "outputs": [],
   "source": [
    "game.eliminate(\"adder\", \"rnrrr\")"
   ]
  },
  {
   "cell_type": "code",
   "execution_count": null,
   "id": "05fee357-5fb2-480a-969c-113ffe8e1b17",
   "metadata": {},
   "outputs": [],
   "source": [
    "p = set([wordle.Answer(x) for x in [\"adder\", \"aider\", \"ardeb\", \"alder\"]])"
   ]
  },
  {
   "cell_type": "code",
   "execution_count": null,
   "id": "3ed9be34-151b-4c84-9dfe-d5efefa46186",
   "metadata": {},
   "outputs": [],
   "source": [
    "p"
   ]
  },
  {
   "cell_type": "code",
   "execution_count": null,
   "id": "47d5f150-81cf-4a19-9a4d-a26bf6adbff4",
   "metadata": {},
   "outputs": [],
   "source": [
    "move = wordle.Move(\"adder\")\n",
    "response = wordle.create_response(\"rnrrr\")"
   ]
  },
  {
   "cell_type": "code",
   "execution_count": null,
   "id": "e580693c-b342-4c18-9c45-005a07dabfac",
   "metadata": {},
   "outputs": [],
   "source": [
    "from wordle import *"
   ]
  },
  {
   "cell_type": "code",
   "execution_count": null,
   "id": "aa44f2f5-8f00-4c2b-9de6-41b2e9ea5116",
   "metadata": {},
   "outputs": [],
   "source": [
    "predict(move, Answer(\"aider\"))"
   ]
  },
  {
   "cell_type": "code",
   "execution_count": null,
   "id": "8139be11-fcc7-4938-9847-d727e141b9e3",
   "metadata": {},
   "outputs": [],
   "source": []
  },
  {
   "cell_type": "markdown",
   "id": "024e4e8b-2096-40de-ae79-d1c7f8122fa1",
   "metadata": {},
   "source": [
    "#"
   ]
  }
 ],
 "metadata": {
  "kernelspec": {
   "display_name": "Python 3 (ipykernel)",
   "language": "python",
   "name": "python3"
  },
  "language_info": {
   "codemirror_mode": {
    "name": "ipython",
    "version": 3
   },
   "file_extension": ".py",
   "mimetype": "text/x-python",
   "name": "python",
   "nbconvert_exporter": "python",
   "pygments_lexer": "ipython3",
   "version": "3.9.21"
  }
 },
 "nbformat": 4,
 "nbformat_minor": 5
}
