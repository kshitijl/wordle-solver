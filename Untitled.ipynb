{
 "cells": [
  {
   "cell_type": "code",
   "execution_count": 1,
   "id": "b9751637-8e5b-4ffc-bc06-843cc3c19b65",
   "metadata": {},
   "outputs": [],
   "source": [
    "%load_ext autoreload\n",
    "%autoreload 1\n",
    "%aimport wordle\n",
    "import wordle"
   ]
  },
  {
   "cell_type": "code",
   "execution_count": 2,
   "id": "f776d748-8206-40dc-978d-20b88d8af686",
   "metadata": {},
   "outputs": [],
   "source": [
    "dictionary = [x.strip() for x in open(\"dictionary.txt\").readlines()]\n",
    "dictionary = [x.lower() for x in dictionary if len(x) == 5]"
   ]
  },
  {
   "cell_type": "code",
   "execution_count": 19,
   "id": "cc9a22f0-28cc-43aa-9fdd-ff5fa35e1c69",
   "metadata": {},
   "outputs": [],
   "source": [
    "game = wordle.GameState(dictionary)"
   ]
  },
  {
   "cell_type": "code",
   "execution_count": 20,
   "id": "cb2951dd-3ff5-40fe-ac12-b385cc930f20",
   "metadata": {},
   "outputs": [
    {
     "name": "stdout",
     "output_type": "stream",
     "text": [
      "Before: 8938 possibilities\n",
      "After: 66 possibilities\n"
     ]
    }
   ],
   "source": [
    "game.eliminate(\"tares\", \"nrwnn\")"
   ]
  },
  {
   "cell_type": "code",
   "execution_count": 21,
   "id": "adb27566-6d30-493a-90f7-750dbc153c96",
   "metadata": {},
   "outputs": [
    {
     "name": "stdout",
     "output_type": "stream",
     "text": [
      "[('rindy', 2.887649509843091), ('noily', 2.8838660364125595), ('lindy', 2.84700557203909), ('roily', 2.8371337840224085), ('robin', 2.8006402035421525), ('myoid', 2.780046380900286), ('colin', 2.765481657822492), ('doily', 2.756476027780266), ('blind', 2.746676207015363), ('yogin', 2.7442170330081184)]\n"
     ]
    },
    {
     "data": {
      "text/plain": [
       "'rindy'"
      ]
     },
     "execution_count": 21,
     "metadata": {},
     "output_type": "execute_result"
    }
   ],
   "source": [
    "game.best_move()"
   ]
  },
  {
   "cell_type": "code",
   "execution_count": null,
   "id": "62756a6e-315f-49d9-a073-c71edb4737b7",
   "metadata": {},
   "outputs": [],
   "source": []
  }
 ],
 "metadata": {
  "kernelspec": {
   "display_name": "Python 3 (ipykernel)",
   "language": "python",
   "name": "python3"
  },
  "language_info": {
   "codemirror_mode": {
    "name": "ipython",
    "version": 3
   },
   "file_extension": ".py",
   "mimetype": "text/x-python",
   "name": "python",
   "nbconvert_exporter": "python",
   "pygments_lexer": "ipython3",
   "version": "3.9.12"
  }
 },
 "nbformat": 4,
 "nbformat_minor": 5
}
